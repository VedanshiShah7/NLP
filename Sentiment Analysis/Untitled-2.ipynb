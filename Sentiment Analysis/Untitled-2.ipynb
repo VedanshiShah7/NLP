{
 "cells": [
  {
   "cell_type": "code",
   "execution_count": 17,
   "metadata": {},
   "outputs": [
    {
     "name": "stdout",
     "output_type": "stream",
     "text": [
      "14.1\n",
      "0.6899744811276125\n",
      "[-1.79731586  0.          1.79731586]\n",
      "[-3.59463171  0.          3.59463171]\n"
     ]
    }
   ],
   "source": [
    "import numpy as np\n",
    "\n",
    "w = [1.1, -1.6, 1.7]\n",
    "\n",
    "v = [5, 1, 6]\n",
    "\n",
    "# dot product\n",
    "print(np.dot(w, v))\n",
    "\n",
    "# ----------------------------------------------------------------------\n",
    "\n",
    "x = [4, 0, -4]\n",
    "\n",
    "w = [0, 0, 0]\n",
    "\n",
    "b = 0.8\n",
    "\n",
    "\n",
    "\n",
    "# P(y = 1 | x)\n",
    "print(1 / (1 + np.exp(-(np.dot(w, x) + b))))\n",
    "\n",
    "# ----------------------------------------------------------------------\n",
    "\n",
    "x = [4, 0, -4]\n",
    "\n",
    "w = [0, 0, 0]\n",
    "\n",
    "b = 0.8\n",
    "\n",
    "\n",
    "z = np.dot(w, x) + b\n",
    "\n",
    "# prob positive\n",
    "sigmoid = 1/1+np.exp(-z)\n",
    "\n",
    "# prob negative\n",
    "1 - sigmoid\n",
    "\n",
    "const = sigmoid - 1\n",
    "\n",
    "gradients = np.array(x) * const\n",
    "\n",
    "mu = 1\n",
    "w_t_1 = w - mu * gradients\n",
    "w_t_2 = w_t_1 - mu * gradients\n",
    "# time = t+1\n",
    "\n",
    "# x label 1 what is w_1\n",
    "print(w_t_1)\n",
    "print(w_t_2)\n"
   ]
  },
  {
   "cell_type": "code",
   "execution_count": null,
   "metadata": {},
   "outputs": [],
   "source": []
  }
 ],
 "metadata": {
  "kernelspec": {
   "display_name": "base",
   "language": "python",
   "name": "python3"
  },
  "language_info": {
   "codemirror_mode": {
    "name": "ipython",
    "version": 3
   },
   "file_extension": ".py",
   "mimetype": "text/x-python",
   "name": "python",
   "nbconvert_exporter": "python",
   "pygments_lexer": "ipython3",
   "version": "3.8.5"
  },
  "orig_nbformat": 4,
  "vscode": {
   "interpreter": {
    "hash": "caa917194a3f9b49aa7c5f08ecf9e4b4c66d3db34522bc007e94fdaaccb6f325"
   }
  }
 },
 "nbformat": 4,
 "nbformat_minor": 2
}
