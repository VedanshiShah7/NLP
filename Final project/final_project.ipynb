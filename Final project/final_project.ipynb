{
 "cells": [
  {
   "cell_type": "markdown",
   "metadata": {},
   "source": [
    "# Final Project: Valiant Analysts"
   ]
  },
  {
   "attachments": {},
   "cell_type": "markdown",
   "metadata": {},
   "source": [
    "Welcome to the Valiant Analysts' final project: Valiant Analysis! Feel free to run this notebook top to bottom to see all of our work (although be warned - several models will be trained and this could take up to hours)! Feel free to run sections instead to save on computing power. We have included our trained models in the .zip file to make it easier to call our models, additionally, running the pre-trained models should work."
   ]
  },
  {
   "attachments": {},
   "cell_type": "markdown",
   "metadata": {},
   "source": [
    "## Dashboard Instructions"
   ]
  },
  {
   "attachments": {},
   "cell_type": "markdown",
   "metadata": {},
   "source": [
    "In order to run the dashboard, which is separate from this notebook, run the command ```python app.py``` or ```python3 app.py```. This will run a Flask server with the demo dashboard with our pipeline. In the terminal, you will see the URL for the server. Please navigate to this URL in your browser to utilize the dashboard. Save all audio files as they are supposed to be named within the root directory of the project to use them and then simply press analyze!\n",
    "\n",
    "Dependencies all rely on the newest version of all imports and Python as of 4/17/23 as a dependency file was not created."
   ]
  },
  {
   "cell_type": "code",
   "execution_count": 23,
   "metadata": {},
   "outputs": [],
   "source": [
    "# imports\n",
    "import sys, os\n",
    "import whisper\n",
    "import warnings\n",
    "import sounddevice as sd\n",
    "import soundfile as sf\n",
    "from transformers import Wav2Vec2Processor, Wav2Vec2ForCTC\n",
    "from datasets import load_dataset\n",
    "import matplotlib.pyplot as plt\n",
    "import librosa\n",
    "import torch\n",
    "import requests\n",
    "from transformers import squad_convert_examples_to_features\n",
    "from transformers.data.processors.squad import SquadResult, SquadV2Processor\n",
    "from transformers.data.metrics.squad_metrics import compute_predictions_logits, squad_evaluate\n",
    "from scipy import optimize\n",
    "from transformers import BertForQuestionAnswering, BertTokenizer\n",
    "import pandas as pd\n",
    "import seaborn as sns\n",
    "import spacy\n",
    "from spacy.tokens import Doc\n",
    "from spacy import displacy\n",
    "from sklearn.metrics import f1_score\n",
    "from sent_analysis_naive_bayes import TextClassify, all_score\n",
    "from datasets import load_dataset\n",
    "from sent_analysis_finetuned import SentAnalysisFineTunedBERT\n",
    "from sent_analysis_bert import SentAnalysisBERT\n",
    "from transformers import pipeline"
   ]
  },
  {
   "attachments": {},
   "cell_type": "markdown",
   "metadata": {},
   "source": [
    "## Whisper model"
   ]
  },
  {
   "cell_type": "code",
   "execution_count": 2,
   "metadata": {},
   "outputs": [],
   "source": [
    "sys.path.insert(0, os.path.abspath('../../'))\n",
    "\n",
    "# ignore warnings\n",
    "warnings.filterwarnings('ignore')"
   ]
  },
  {
   "cell_type": "code",
   "execution_count": 6,
   "metadata": {},
   "outputs": [],
   "source": [
    "# transcribe audio function \n",
    "def transcribe_audio(mp3: str, model) -> str:\n",
    "    \"\"\"\n",
    "    Transcribes an audio file (in MP3 format) into text.\n",
    "\n",
    "    Parameters:\n",
    "    - mp3 (str): The path to the audio file.\n",
    "    - model: The model to use for transcribing the audio.\n",
    "\n",
    "    Returns:\n",
    "    - str: The transcribed text.\n",
    "    \"\"\"\n",
    "    print('[Transcribing audio]')\n",
    "    results = model.transcribe(mp3)\n",
    "    return results[\"text\"]\n"
   ]
  },
  {
   "cell_type": "code",
   "execution_count": 9,
   "metadata": {},
   "outputs": [
    {
     "name": "stderr",
     "output_type": "stream",
     "text": [
      "100%|███████████████████████████████████████| 139M/139M [00:04<00:00, 33.7MiB/s]\n",
      "100%|███████████████████████████████████████| 461M/461M [00:15<00:00, 31.3MiB/s]\n",
      "100%|█████████████████████████████████████| 1.42G/1.42G [00:45<00:00, 33.4MiB/s]\n"
     ]
    }
   ],
   "source": [
    "# whisper models\n",
    "model_tiny = whisper.load_model(\"tiny\")\n",
    "model_base = whisper.load_model(\"base\")\n",
    "model_small = whisper.load_model(\"small\")\n",
    "model_medium = whisper.load_model(\"medium\")"
   ]
  },
  {
   "cell_type": "code",
   "execution_count": 14,
   "metadata": {},
   "outputs": [
    {
     "name": "stdout",
     "output_type": "stream",
     "text": [
      "[Transcribing audio]\n",
      "[Transcribing audio]\n",
      "[Transcribing audio]\n",
      "[Transcribing audio]\n"
     ]
    }
   ],
   "source": [
    "# Transcribe the audio\n",
    "transcribed_text_tiny = transcribe_audio('file.wav', model_tiny)\n",
    "transcribed_text_base = transcribe_audio('file.wav', model_base)\n",
    "transcribed_text_small = transcribe_audio('file.wav', model_small)\n",
    "transcribed_text_medium = transcribe_audio('file.wav', model_medium)"
   ]
  },
  {
   "cell_type": "code",
   "execution_count": 19,
   "metadata": {},
   "outputs": [
    {
     "data": {
      "text/html": [
       "<div>\n",
       "<style scoped>\n",
       "    .dataframe tbody tr th:only-of-type {\n",
       "        vertical-align: middle;\n",
       "    }\n",
       "\n",
       "    .dataframe tbody tr th {\n",
       "        vertical-align: top;\n",
       "    }\n",
       "\n",
       "    .dataframe thead th {\n",
       "        text-align: right;\n",
       "    }\n",
       "</style>\n",
       "<table border=\"1\" class=\"dataframe\">\n",
       "  <thead>\n",
       "    <tr style=\"text-align: right;\">\n",
       "      <th></th>\n",
       "      <th>0</th>\n",
       "    </tr>\n",
       "  </thead>\n",
       "  <tbody>\n",
       "    <tr>\n",
       "      <th>tiny</th>\n",
       "      <td>Alright, today was a really incredible day. I...</td>\n",
       "    </tr>\n",
       "    <tr>\n",
       "      <th>base</th>\n",
       "      <td>All right, today was a really incredible day....</td>\n",
       "    </tr>\n",
       "    <tr>\n",
       "      <th>small</th>\n",
       "      <td>All right, today was a really incredible day....</td>\n",
       "    </tr>\n",
       "    <tr>\n",
       "      <th>medium</th>\n",
       "      <td>Alright, today was a really incredible day. I...</td>\n",
       "    </tr>\n",
       "  </tbody>\n",
       "</table>\n",
       "</div>"
      ],
      "text/plain": [
       "                                                        0\n",
       "tiny     Alright, today was a really incredible day. I...\n",
       "base     All right, today was a really incredible day....\n",
       "small    All right, today was a really incredible day....\n",
       "medium   Alright, today was a really incredible day. I..."
      ]
     },
     "execution_count": 19,
     "metadata": {},
     "output_type": "execute_result"
    }
   ],
   "source": [
    "# view the text generated by each model\n",
    "# generate a dataframe with tiny, base, small, medium as the rows\n",
    "df = pd.DataFrame([transcribed_text_tiny, transcribed_text_base, transcribed_text_small, transcribed_text_medium], index=['tiny', 'base', 'small', 'medium'])\n",
    "df"
   ]
  },
  {
   "attachments": {},
   "cell_type": "markdown",
   "metadata": {},
   "source": [
    "### viewing the transcribed texts for each model individually"
   ]
  },
  {
   "cell_type": "code",
   "execution_count": 20,
   "metadata": {},
   "outputs": [
    {
     "data": {
      "text/plain": [
       "\" Alright, today was a really incredible day. I'm relieved as hell for being a professional really to be over. Um, showcase what really well. I feel like my speech will well. I'm not nervous anymore. Um, and I'm really happy.\""
      ]
     },
     "execution_count": 20,
     "metadata": {},
     "output_type": "execute_result"
    }
   ],
   "source": [
    "transcribed_text_tiny"
   ]
  },
  {
   "cell_type": "code",
   "execution_count": 23,
   "metadata": {},
   "outputs": [
    {
     "data": {
      "text/plain": [
       "\" All right, today was a really incredible day. I'm relieved as hell for being a projectile to be over. Showcase went really well. I feel like my speech went well. I'm not nervous anymore. And I'm really happy.\""
      ]
     },
     "execution_count": 23,
     "metadata": {},
     "output_type": "execute_result"
    }
   ],
   "source": [
    "transcribed_text_small"
   ]
  },
  {
   "cell_type": "code",
   "execution_count": 21,
   "metadata": {},
   "outputs": [
    {
     "data": {
      "text/plain": [
       "\" All right, today was a really incredible day. I'm relieved as hell for being approached I could lead to be over. Showcase went really well. I feel like my speech went well. I'm not nervous anymore. And I'm really happy.\""
      ]
     },
     "execution_count": 21,
     "metadata": {},
     "output_type": "execute_result"
    }
   ],
   "source": [
    "transcribed_text_base"
   ]
  },
  {
   "cell_type": "code",
   "execution_count": 24,
   "metadata": {},
   "outputs": [
    {
     "data": {
      "text/plain": [
       "\" Alright, today was a really incredible day. I'm relieved as hell for being a project lead to be over. Showcase went really well. I feel like my speech went well. I'm not nervous anymore and I'm really happy.\""
      ]
     },
     "execution_count": 24,
     "metadata": {},
     "output_type": "execute_result"
    }
   ],
   "source": [
    "transcribed_text_medium"
   ]
  },
  {
   "cell_type": "code",
   "execution_count": 26,
   "metadata": {},
   "outputs": [
    {
     "name": "stdout",
     "output_type": "stream",
     "text": [
      "Recording Audio\n",
      "Audio recording complete , Play Audio\n"
     ]
    }
   ],
   "source": [
    "# record audio \n",
    "duration = 5  # seconds\n",
    "fs = 16000  # Sample rate\n",
    "seconds = 5  # Duration of recording\n",
    "\n",
    "print(\"Recording Audio\")\n",
    "myrecording = sd.rec(int(seconds * fs), samplerate=fs, channels=1)\n",
    "sd.wait()  # Wait until recording is finished\n",
    "print(\"Audio recording complete , Play Audio\")\n",
    "filename = 'file.wav'\n",
    "sf.write(filename, myrecording, fs)  # Save as WAV file"
   ]
  },
  {
   "cell_type": "code",
   "execution_count": 27,
   "metadata": {},
   "outputs": [
    {
     "name": "stderr",
     "output_type": "stream",
     "text": [
      "Some weights of Wav2Vec2ForCTC were not initialized from the model checkpoint at facebook/wav2vec2-base-960h and are newly initialized: ['wav2vec2.masked_spec_embed']\n",
      "You should probably TRAIN this model on a down-stream task to be able to use it for predictions and inference.\n"
     ]
    },
    {
     "data": {
      "image/png": "[encoded data removed]",
      "text/plain": [
       "<Figure size 640x480 with 1 Axes>"
      ]
     },
     "metadata": {},
     "output_type": "display_data"
    }
   ],
   "source": [
    "# use whisper to process\n",
    "processor = Wav2Vec2Processor.from_pretrained('facebook/wav2vec2-base-960h')\n",
    "model = Wav2Vec2ForCTC.from_pretrained('facebook/wav2vec2-base-960h')\n",
    "\n",
    "input_audio, _ = librosa.load('file.wav', sr=16000)\n",
    "input_feature = processor(input_audio, sampling_rate=16000, return_tensors='pt').input_values\n",
    "output_text = model(input_feature).logits.argmax(dim=-1)\n",
    "\n",
    "# Visualize the input audio waveform\n",
    "plt.plot(input_audio)\n",
    "plt.title('Input Audio Waveform')\n",
    "plt.xlabel('Sample Index')\n",
    "plt.ylabel('Amplitude')\n",
    "plt.show()"
   ]
  },
  {
   "cell_type": "code",
   "execution_count": 67,
   "metadata": {},
   "outputs": [
    {
     "name": "stdout",
     "output_type": "stream",
     "text": [
      "Predicted Transcription: AND RIT TO DAY WAS THE REALLY INCREDIBLE DAY UM I'M RELIEVED AS HELL FOR BEING A BRACHACHALLY TO BE OVER UM SHOW CASE WON'T REALLY WELL I FEEL LIKE MY SPEECHMU WELL I'M NOT NERVOUS ANY MORE UM AND I'M REALLY HAPPY\n",
      "Actual Transcription:  Alright, today was a really incredible day. I'm relieved as hell for being a project lead to be over. Showcase went really well. I feel like my speech went well. I'm not nervous anymore and I'm really happy.\n"
     ]
    }
   ],
   "source": [
    "# Visualize the predicted transcription\n",
    "predicted_text = processor.decode(output_text[0])\n",
    "actual_text = \" Alright, today was a really incredible day. I'm relieved as hell for being a project lead to be over. Showcase went really well. I feel like my speech went well. I'm not nervous anymore and I'm really happy.\"\n",
    "print('Predicted Transcription:', predicted_text)\n",
    "print('Actual Transcription:', actual_text)"
   ]
  },
  {
   "attachments": {},
   "cell_type": "markdown",
   "metadata": {},
   "source": [
    "## BERT Model"
   ]
  },
  {
   "attachments": {},
   "cell_type": "markdown",
   "metadata": {},
   "source": [
    "### Steps:\n",
    "1. Preprocessing the SQuAD dataset [[here](https://huggingface.co/datasets/squad)]\n",
    "2. Fine-tuning a pre-trained BERT model on the preprocessed dataset\n",
    "3. Evaluating the fine-tuned model on the SQuAD test set"
   ]
  },
  {
   "attachments": {},
   "cell_type": "markdown",
   "metadata": {},
   "source": [
    "#### Download the SQuAD data"
   ]
  },
  {
   "cell_type": "code",
   "execution_count": null,
   "metadata": {},
   "outputs": [],
   "source": [
    "# Download the train set\n",
    "url = 'https://rajpurkar.github.io/SQuAD-explorer/dataset/train-v1.1.json'\n",
    "response = requests.get(url)\n",
    "with open('train-v1.1.json', 'wb') as f:\n",
    "    f.write(response.content)\n",
    "\n",
    "# Download the dev set\n",
    "url = 'https://rajpurkar.github.io/SQuAD-explorer/dataset/dev-v1.1.json'\n",
    "response = requests.get(url)\n",
    "with open('dev-v1.1.json', 'wb') as f:\n",
    "    f.write(response.content)"
   ]
  },
  {
   "cell_type": "code",
   "execution_count": null,
   "metadata": {},
   "outputs": [],
   "source": [
    "num_epochs = 10 # change this for hyperparameter tuning"
   ]
  },
  {
   "cell_type": "code",
   "execution_count": 26,
   "metadata": {},
   "outputs": [
    {
     "name": "stderr",
     "output_type": "stream",
     "text": [
      "Some weights of the model checkpoint at bert-base-uncased were not used when initializing BertForQuestionAnswering: ['cls.predictions.bias', 'cls.predictions.transform.LayerNorm.weight', 'cls.predictions.transform.dense.bias', 'cls.seq_relationship.weight', 'cls.predictions.transform.dense.weight', 'cls.predictions.decoder.weight', 'cls.predictions.transform.LayerNorm.bias', 'cls.seq_relationship.bias']\n",
      "- This IS expected if you are initializing BertForQuestionAnswering from the checkpoint of a model trained on another task or with another architecture (e.g. initializing a BertForSequenceClassification model from a BertForPreTraining model).\n",
      "- This IS NOT expected if you are initializing BertForQuestionAnswering from the checkpoint of a model that you expect to be exactly identical (initializing a BertForSequenceClassification model from a BertForSequenceClassification model).\n",
      "Some weights of BertForQuestionAnswering were not initialized from the model checkpoint at bert-base-uncased and are newly initialized: ['qa_outputs.bias', 'qa_outputs.weight']\n",
      "You should probably TRAIN this model on a down-stream task to be able to use it for predictions and inference.\n",
      "100%|██████████| 442/442 [00:53<00:00,  8.21it/s]\n",
      "convert squad examples to features: 100%|██████████| 87599/87599 [20:50<00:00, 70.07it/s]  \n",
      "add example index and unique id: 100%|██████████| 87599/87599 [00:01<00:00, 55377.70it/s]\n"
     ]
    }
   ],
   "source": [
    "# Set up device\n",
    "device = torch.device(\"cuda\" if torch.cuda.is_available() else \"cpu\")\n",
    "\n",
    "# Load tokenizer and model\n",
    "tokenizer = BertTokenizer.from_pretrained('bert-base-uncased')\n",
    "model = BertForQuestionAnswering.from_pretrained('bert-base-uncased').to(device)\n",
    "\n",
    "# Instantiate the SquadV2Processor class\n",
    "processor = SquadV2Processor()\n",
    "\n",
    "# Replace this with the path to your train set file\n",
    "train_file = 'train-v1.1.json'\n",
    "\n",
    "# Load the SQuAD train set using the instance method\n",
    "train_data = processor.get_train_examples(data_dir=None, filename=train_file)\n",
    "train_data_features = squad_convert_examples_to_features(\n",
    "    examples=train_data,\n",
    "    tokenizer=tokenizer,\n",
    "    max_seq_length=384,\n",
    "    doc_stride=128,\n",
    "    max_query_length=64,\n",
    "    is_training=True,\n",
    "    return_dataset='pt'\n",
    ")\n",
    "\n",
    "\n",
    "# runtime - 23 minutes for convert squad examples to features mainly"
   ]
  },
  {
   "attachments": {},
   "cell_type": "markdown",
   "metadata": {},
   "source": [
    "__Input-output pairs:__ You can also visualize the input-output pairs generated by the model. For example, given a question and a paragraph of text, you can visualize the answer generated by the model along with the corresponding input text. This can help you understand how the model is processing the input and generating the output.\n",
    "\n",
    "__Error analysis:__ You can also visualize the errors made by the model. For example, you can create a confusion matrix that shows the frequency of different types of errors made by the model (e.g., false positives, false negatives, etc.). This can help you identify common patterns in the errors and improve the model's performance."
   ]
  },
  {
   "attachments": {},
   "cell_type": "markdown",
   "metadata": {},
   "source": [
    "#### Input-output pairs"
   ]
  },
  {
   "cell_type": "code",
   "execution_count": 49,
   "metadata": {},
   "outputs": [
    {
     "name": "stderr",
     "output_type": "stream",
     "text": [
      "Downloading (…)lve/main/config.json: 100%|██████████| 443/443 [00:00<00:00, 13.9kB/s]\n",
      "Downloading pytorch_model.bin: 100%|██████████| 1.34G/1.34G [00:33<00:00, 39.6MB/s]\n",
      "Downloading (…)solve/main/vocab.txt: 100%|██████████| 232k/232k [00:00<00:00, 1.61MB/s]\n",
      "Downloading (…)okenizer_config.json: 100%|██████████| 28.0/28.0 [00:00<00:00, 3.57kB/s]\n"
     ]
    },
    {
     "name": "stdout",
     "output_type": "stream",
     "text": [
      "Question: What is the capital of France?\n",
      "Context: Paris is the capital and most populous city of France.\n",
      "Answer: paris\n"
     ]
    }
   ],
   "source": [
    "# Load pre-trained BERT model and tokenizer\n",
    "model = BertForQuestionAnswering.from_pretrained('bert-large-uncased-whole-word-masking-finetuned-squad')\n",
    "tokenizer = BertTokenizer.from_pretrained('bert-large-uncased-whole-word-masking-finetuned-squad')\n",
    "\n",
    "# Define input question and context\n",
    "question = \"What is the capital of France?\"\n",
    "context = \"Paris is the capital and most populous city of France.\"\n",
    "\n",
    "# Tokenize input question and context\n",
    "input_dict = tokenizer.encode_plus(question, context, return_tensors='pt')\n",
    "\n",
    "# Get model output\n",
    "outputs = model(**input_dict)\n",
    "\n",
    "# Extract answer from model output\n",
    "answer_start = torch.argmax(outputs.start_logits)\n",
    "answer_end = torch.argmax(outputs.end_logits) + 1\n",
    "answer = tokenizer.convert_tokens_to_string(tokenizer.convert_ids_to_tokens(input_dict['input_ids'][0][answer_start:answer_end]))\n",
    "\n",
    "# Visualize input-output pair\n",
    "print(f\"Question: {question}\")\n",
    "print(f\"Context: {context}\")\n",
    "print(f\"Answer: {answer}\")"
   ]
  },
  {
   "attachments": {},
   "cell_type": "markdown",
   "metadata": {},
   "source": [
    "#### Error analysis"
   ]
  },
  {
   "cell_type": "code",
   "execution_count": 52,
   "metadata": {},
   "outputs": [
    {
     "data": {
      "text/plain": [
       "<Axes: xlabel='Predicted answer', ylabel='Correct answer'>"
      ]
     },
     "execution_count": 52,
     "metadata": {},
     "output_type": "execute_result"
    },
    {
     "data": {
      "image/png": "[encoded data removed]",
      "text/plain": [
       "<Figure size 640x480 with 2 Axes>"
      ]
     },
     "metadata": {},
     "output_type": "display_data"
    }
   ],
   "source": [
    "# Load pre-trained BERT model and tokenizer\n",
    "model = BertForQuestionAnswering.from_pretrained('bert-large-uncased-whole-word-masking-finetuned-squad')\n",
    "tokenizer = BertTokenizer.from_pretrained('bert-large-uncased-whole-word-masking-finetuned-squad')\n",
    "\n",
    "# Define input questions and contexts\n",
    "input_data = [\n",
    "    {'question': 'What is the capital of France?', 'context': 'Paris is the capital and most populous city of France.', 'answer': 'Paris'},\n",
    "    {'question': 'What is the largest country in the world?', 'context': 'Russia is the largest country in the world by land area.', 'answer': 'Russia'},\n",
    "    {'question': 'What is the capital of Italy?', 'context': 'Milan is a major financial center in Italy.', 'answer': 'Rome'},\n",
    "    {'question': 'What is the currency of Japan?', 'context': 'Japan has a highly developed economy and uses the yen as its currency.', 'answer': 'Yen'},\n",
    "]\n",
    "\n",
    "# Define function to predict answers and compute errors\n",
    "def predict_answer(model, tokenizer, input_data):\n",
    "    predicted_answers = []\n",
    "    correct_answers = []\n",
    "    for example in input_data:\n",
    "        question, context, answer = example['question'], example['context'], example['answer']\n",
    "        input_dict = tokenizer.encode_plus(question, context, return_tensors='pt')\n",
    "        outputs = model(**input_dict)\n",
    "        answer_start = torch.argmax(outputs.start_logits)\n",
    "        answer_end = torch.argmax(outputs.end_logits) + 1\n",
    "        predicted_answer = tokenizer.convert_tokens_to_string(tokenizer.convert_ids_to_tokens(input_dict['input_ids'][0][answer_start:answer_end]))\n",
    "        predicted_answers.append(predicted_answer)\n",
    "        correct_answers.append(answer)\n",
    "    return predicted_answers, correct_answers\n",
    "\n",
    "# Predict answers and compute errors\n",
    "predicted_answers, correct_answers = predict_answer(model, tokenizer, input_data)\n",
    "errors = [1 if predicted_answers[i] != correct_answers[i] else 0 for i in range(len(input_data))]\n",
    "\n",
    "# Create confusion matrix\n",
    "data = {'Predicted answer': predicted_answers, 'Correct answer': correct_answers, 'Error': errors}\n",
    "df = pd.DataFrame(data)\n",
    "confusion_matrix = pd.crosstab(df['Correct answer'], df['Predicted answer'], values=df['Error'], aggfunc='sum', normalize='index')\n",
    "\n",
    "# Visualize confusion matrix\n",
    "sns.heatmap(confusion_matrix, cmap='Blues', annot=True, fmt='.2f')"
   ]
  },
  {
   "attachments": {},
   "cell_type": "markdown",
   "metadata": {},
   "source": [
    "## NER"
   ]
  },
  {
   "attachments": {},
   "cell_type": "markdown",
   "metadata": {},
   "source": [
    "### LSTM-CRF with Char Embeddings"
   ]
  },
  {
   "cell_type": "code",
   "execution_count": 11,
   "metadata": {},
   "outputs": [
    {
     "name": "stderr",
     "output_type": "stream",
     "text": [
      "2023-04-18 01:47:48.161618: I tensorflow/core/platform/cpu_feature_guard.cc:193] This TensorFlow binary is optimized with oneAPI Deep Neural Network Library (oneDNN) to use the following CPU instructions in performance-critical operations:  AVX2 AVX512F AVX512_VNNI FMA\n",
      "To enable them in other operations, rebuild TensorFlow with the appropriate compiler flags.\n"
     ]
    },
    {
     "name": "stdout",
     "output_type": "stream",
     "text": [
      "150/150 [==============================] - 4s 18ms/step\n",
      "              precision    recall  f1-score   support\n",
      "\n",
      "         art       0.04      0.25      0.07         8\n",
      "         eve       0.20      0.42      0.27        19\n",
      "         geo       0.93      0.86      0.89      4081\n",
      "         gpe       0.95      0.96      0.95      1502\n",
      "         nat       0.19      0.50      0.27         6\n",
      "         org       0.77      0.77      0.77      2064\n",
      "         per       0.84      0.84      0.84      1837\n",
      "         tim       0.89      0.90      0.90      1984\n",
      "\n",
      "   micro avg       0.87      0.86      0.87     11501\n",
      "   macro avg       0.60      0.69      0.62     11501\n",
      "weighted avg       0.88      0.86      0.87     11501\n",
      "\n"
     ]
    },
    {
     "data": {
      "text/plain": [
       "(<keras.engine.functional.Functional at 0x1a1df3940>,\n",
       "        loss       acc  val_loss   val_acc\n",
       " 0  0.505462  0.860781  0.220639  0.930968\n",
       " 1  0.169105  0.951742  0.133902  0.962635\n",
       " 2  0.120547  0.965486  0.117720  0.965548\n",
       " 3  0.103460  0.969605  0.110488  0.967640\n",
       " 4  0.093903  0.971698  0.106492  0.968718\n",
       " 5  0.087205  0.973200  0.106942  0.967939\n",
       " 6  0.082296  0.974457  0.104419  0.969188\n",
       " 7  0.078456  0.975411  0.104621  0.969518\n",
       " 8  0.075544  0.976245  0.103489  0.969796\n",
       " 9  0.072465  0.976965  0.104031  0.970308)"
      ]
     },
     "execution_count": 11,
     "metadata": {},
     "output_type": "execute_result"
    }
   ],
   "source": [
    "# Please see ner_lstm.py for the full code\n",
    "from ner_lstm import NERLSTM\n",
    "\n",
    "# Train the model\n",
    "ner_lstm = NERLSTM()\n",
    "ner_lstm.train(data=\"ner_dataset.csv\")"
   ]
  },
  {
   "attachments": {},
   "cell_type": "markdown",
   "metadata": {},
   "source": [
    "#### transformer based NER, pipeline"
   ]
  },
  {
   "cell_type": "code",
   "execution_count": 29,
   "metadata": {},
   "outputs": [
    {
     "name": "stderr",
     "output_type": "stream",
     "text": [
      "/Users/vedanshi/opt/anaconda3/envs/spiralnet/lib/python3.8/site-packages/transformers/pipelines/token_classification.py:157: UserWarning: `grouped_entities` is deprecated and will be removed in version v5.0.0, defaulted to `aggregation_strategy=\"simple\"` instead.\n",
      "  warnings.warn(\n"
     ]
    },
    {
     "data": {
      "text/plain": [
       "[{'entity_group': 'ORG',\n",
       "  'score': 0.9935369,\n",
       "  'word': 'Hugging Face Inc',\n",
       "  'start': 0,\n",
       "  'end': 16},\n",
       " {'entity_group': 'LOC',\n",
       "  'score': 0.99946475,\n",
       "  'word': 'New York City',\n",
       "  'start': 40,\n",
       "  'end': 53},\n",
       " {'entity_group': 'ORG',\n",
       "  'score': 0.67804223,\n",
       "  'word': 'DUMBO',\n",
       "  'start': 79,\n",
       "  'end': 84},\n",
       " {'entity_group': 'LOC',\n",
       "  'score': 0.9944114,\n",
       "  'word': 'Manhattan Bridge',\n",
       "  'start': 113,\n",
       "  'end': 129}]"
      ]
     },
     "execution_count": 29,
     "metadata": {},
     "output_type": "execute_result"
    }
   ],
   "source": [
    "# visualize NER\n",
    "\n",
    "# Load pre-trained BERT model and tokenizer\n",
    "nlp = pipeline('ner', model='dslim/bert-base-NER', tokenizer='dslim/bert-base-NER', grouped_entities=True)\n",
    "\n",
    "# Define input sequence\n",
    "sequence = \"Hugging Face Inc. is a company based in New York City. Its headquarters are in DUMBO, therefore very\" \\\n",
    "              \"close to the Manhattan Bridge which is visible from the window.\"\n",
    "\n",
    "# Get model output\n",
    "nlp(sequence)"
   ]
  },
  {
   "attachments": {},
   "cell_type": "markdown",
   "metadata": {},
   "source": [
    "### spaCy NER"
   ]
  },
  {
   "attachments": {},
   "cell_type": "markdown",
   "metadata": {},
   "source": [
    "#### Loading and cleaning data"
   ]
  },
  {
   "cell_type": "code",
   "execution_count": 12,
   "metadata": {},
   "outputs": [
    {
     "name": "stdout",
     "output_type": "stream",
     "text": [
      "['O' 'B-geo' 'B-gpe' 'B-per' 'I-geo' 'B-org' 'I-org' 'B-tim' 'B-art'\n",
      " 'I-art' 'I-per' 'I-gpe' 'I-tim' 'B-nat' 'B-eve' 'I-eve' 'I-nat']\n"
     ]
    }
   ],
   "source": [
    "# Load data\n",
    "data = pd.read_csv(\"ner_dataset.csv\", encoding=\"latin1\")\n",
    "data = data.fillna(method=\"ffill\")\n",
    "\n",
    "# Create lists of words, POS tags, and named entity tags\n",
    "words = sorted(set(data[\"Word\"].values))\n",
    "chars = sorted(set([w_i for w in words for w_i in w]))\n",
    "tags = sorted(set(data[\"Tag\"].values), reverse=True)\n",
    "\n",
    "# Create dictionaries mapping words, POS tags, and named entity tags to integers\n",
    "print(pd.unique(data[\"Tag\"]))\n",
    "sentences = data.groupby(\"Sentence #\").apply(lambda x: [x[\"Word\"].values.tolist(), x[\"POS\"].values.tolist(), x[\"Tag\"].values.tolist()])\n",
    "sentences = [[(sentences[i][0][j], sentences[i][1][j], sentences[i][2][j]) for j in range(len(sentences[i][0]))] for i in range(len(sentences))]"
   ]
  },
  {
   "attachments": {},
   "cell_type": "markdown",
   "metadata": {},
   "source": [
    "#### Replacing spaCy's tokenizer due to pre-tokenized data"
   ]
  },
  {
   "cell_type": "code",
   "execution_count": 13,
   "metadata": {},
   "outputs": [],
   "source": [
    "class WhitespaceTokenizer:\n",
    "    def __init__(self, vocab):\n",
    "        # Store the vocab object\n",
    "        self.vocab = vocab\n",
    "\n",
    "    def __call__(self, text):\n",
    "        # Split the text on whitespace characters\n",
    "        words = text.split(\" \")\n",
    "        spaces = [True] * len(words)\n",
    "        # Avoid zero-length tokens\n",
    "        for i, word in enumerate(words):\n",
    "            if word == \"\":\n",
    "                words[i] = \" \"\n",
    "                spaces[i] = False\n",
    "        # Remove the final trailing space\n",
    "        if words[-1] == \" \":\n",
    "            words = words[0:-1]\n",
    "            spaces = spaces[0:-1]\n",
    "        else:\n",
    "           spaces[-1] = False\n",
    "\n",
    "        return Doc(self.vocab, words=words, spaces=spaces)\n",
    "\n",
    "# Load the small English model\n",
    "nlp = spacy.load(\"en_core_web_sm\")\n",
    "# Set the tokenizer to the whitespace tokenizer defined above\n",
    "nlp.tokenizer = WhitespaceTokenizer(nlp.vocab)"
   ]
  },
  {
   "attachments": {},
   "cell_type": "markdown",
   "metadata": {},
   "source": [
    "#### Looking at the differing tags between the two models"
   ]
  },
  {
   "cell_type": "code",
   "execution_count": 14,
   "metadata": {},
   "outputs": [
    {
     "name": "stdout",
     "output_type": "stream",
     "text": [
      "['CARDINAL', 'DATE', 'EVENT', 'FAC', 'GPE', 'LANGUAGE', 'LAW', 'LOC', 'MONEY', 'NORP', 'ORDINAL', 'ORG', 'PERCENT', 'PERSON', 'PRODUCT', 'QUANTITY', 'TIME', 'WORK_OF_ART']\n",
      "['O' 'B-geo' 'B-gpe' 'B-per' 'I-geo' 'B-org' 'I-org' 'B-tim' 'B-art'\n",
      " 'I-art' 'I-per' 'I-gpe' 'I-tim' 'B-nat' 'B-eve' 'I-eve' 'I-nat']\n"
     ]
    }
   ],
   "source": [
    "print(nlp.pipe_labels['ner'])\n",
    "print(pd.unique(data[\"Tag\"]))"
   ]
  },
  {
   "attachments": {},
   "cell_type": "markdown",
   "metadata": {},
   "source": [
    "#### Sorting gold and prediction lists"
   ]
  },
  {
   "cell_type": "code",
   "execution_count": 15,
   "metadata": {},
   "outputs": [],
   "source": [
    "# Create lists of words, POS tags, and named entity tags\n",
    "gold = []\n",
    "pred = []\n",
    "words = []\n",
    "all_data_tags = set()\n",
    "all_spacy_tags = set()\n",
    "\n",
    "# Create dictionaries mapping words, POS tags, and named entity tags to integers\n",
    "for i in range(len(sentences)):\n",
    "    sent = \" \".join([sentences[i][j][0] for j in range(len(sentences[i]))])\n",
    "    doc = nlp(sent)\n",
    "    predicted = [word.ent_iob_ + (\"-\" + word.ent_type_ if word.ent_type_ else \"\") for word in doc]\n",
    "    true = [sentences[i][j][2] for j in range(len(sentences[i]))]\n",
    "    wordList = [sentences[i][j][0] for j in range(len(sentences[i]))]\n",
    "    \n",
    "    gold += true\n",
    "    pred += predicted\n",
    "    words += wordList\n",
    "    all_data_tags.update(set(true))\n",
    "    all_spacy_tags.update(set(predicted))\n",
    "\n",
    "# Create a mapping from the data tags to the spacy tags\n",
    "spacyToData = {'O':'O', 'B-GPE': 'B-geo', 'I-GPE': 'I-geo', 'B-ORG': 'B-org', 'I-ORG': 'I-org', 'B-TIME': 'B-tim', 'I-TIME': 'I-tim', 'B-WORK_OF_ART': 'B-art', 'I-WORK_OF_ART':'I-art', 'B-LOC':'B-geo', 'I-LOC':'I-geo', 'B-PERSON':'B-per', 'I-PERSON':'I-per', 'B-NORP':'B-gpe', 'I-NORP':'I-gpe', 'B-DATE':'B-tim', 'I-DATE':'I-tim'}\n",
    "dataCleaning = {'B-nat':'O', 'B-eve':'O', 'I-eve':'O', 'I-nat':'O'}\n",
    "\n",
    "# Clean the data\n",
    "pred = [spacyToData.get(i, 'O') for i in pred]\n",
    "gold = [dataCleaning.get(i) if dataCleaning.get(i) else i for i in gold]"
   ]
  },
  {
   "attachments": {},
   "cell_type": "markdown",
   "metadata": {},
   "source": [
    "#### Checking weighted F1 (due to sparse labeling)"
   ]
  },
  {
   "cell_type": "code",
   "execution_count": 16,
   "metadata": {},
   "outputs": [
    {
     "name": "stdout",
     "output_type": "stream",
     "text": [
      "0.9142151442105265\n"
     ]
    }
   ],
   "source": [
    "# Print the F1 score\n",
    "print(f1_score(gold, pred, average='weighted'))"
   ]
  },
  {
   "attachments": {},
   "cell_type": "markdown",
   "metadata": {},
   "source": [
    "#### General use spaCy NER"
   ]
  },
  {
   "cell_type": "code",
   "execution_count": 17,
   "metadata": {},
   "outputs": [
    {
     "data": {
      "text/html": [
       "<span class=\"tex2jax_ignore\"><div class=\"entities\" style=\"line-height: 2.5; direction: ltr\">I loved \n",
       "<mark class=\"entity\" style=\"background: #aa9cfc; padding: 0.45em 0.6em; margin: 0 0.25em; line-height: 1; border-radius: 0.35em;\">\n",
       "    Sundar Pichai's\n",
       "    <span style=\"font-size: 0.8em; font-weight: bold; line-height: 1; border-radius: 0.35em; vertical-align: middle; margin-left: 0.5rem\">PERSON</span>\n",
       "</mark>\n",
       " event on \n",
       "<mark class=\"entity\" style=\"background: #bfe1d9; padding: 0.45em 0.6em; margin: 0 0.25em; line-height: 1; border-radius: 0.35em;\">\n",
       "    Thursday\n",
       "    <span style=\"font-size: 0.8em; font-weight: bold; line-height: 1; border-radius: 0.35em; vertical-align: middle; margin-left: 0.5rem\">DATE</span>\n",
       "</mark>\n",
       " at \n",
       "<mark class=\"entity\" style=\"background: #7aecec; padding: 0.45em 0.6em; margin: 0 0.25em; line-height: 1; border-radius: 0.35em;\">\n",
       "    Google\n",
       "    <span style=\"font-size: 0.8em; font-weight: bold; line-height: 1; border-radius: 0.35em; vertical-align: middle; margin-left: 0.5rem\">ORG</span>\n",
       "</mark>\n",
       "'s headquarters in \n",
       "<mark class=\"entity\" style=\"background: #feca74; padding: 0.45em 0.6em; margin: 0 0.25em; line-height: 1; border-radius: 0.35em;\">\n",
       "    California\n",
       "    <span style=\"font-size: 0.8em; font-weight: bold; line-height: 1; border-radius: 0.35em; vertical-align: middle; margin-left: 0.5rem\">GPE</span>\n",
       "</mark>\n",
       ".</div></span>"
      ],
      "text/plain": [
       "<IPython.core.display.HTML object>"
      ]
     },
     "metadata": {},
     "output_type": "display_data"
    }
   ],
   "source": [
    "# Load the small English model\n",
    "nlp = spacy.load(\"en_core_web_sm\")\n",
    "# Give it a sentence to analyze\n",
    "doc = nlp(\"I loved Sundar Pichai's event on Thursday at Google's headquarters in California.\")\n",
    "# Render the dependency parse\n",
    "displacy.render(doc, style='ent', jupyter=True)"
   ]
  },
  {
   "attachments": {},
   "cell_type": "markdown",
   "metadata": {},
   "source": [
    "#### End decision: add spaCy NER to pipeline"
   ]
  },
  {
   "attachments": {},
   "cell_type": "markdown",
   "metadata": {},
   "source": [
    "## Sentiment Analysis"
   ]
  },
  {
   "attachments": {},
   "cell_type": "markdown",
   "metadata": {},
   "source": [
    "### Improved Naive Bayes Classifier"
   ]
  },
  {
   "cell_type": "code",
   "execution_count": 18,
   "metadata": {},
   "outputs": [
    {
     "name": "stderr",
     "output_type": "stream",
     "text": [
      "Found cached dataset imdb (/Users/arnav/.cache/huggingface/datasets/imdb/plain_text/1.0.0/d613c88cf8fa3bab83b4ded3713f1f74830d1100e171db75bbddb80b3345c9c0)\n"
     ]
    },
    {
     "data": {
      "application/vnd.jupyter.widget-view+json": {
       "model_id": "1acee6c354084678b091c23e34c60827",
       "version_major": 2,
       "version_minor": 0
      },
      "text/plain": [
       "  0%|          | 0/3 [00:00<?, ?it/s]"
      ]
     },
     "metadata": {},
     "output_type": "display_data"
    },
    {
     "name": "stderr",
     "output_type": "stream",
     "text": [
      "Loading cached shuffled indices for dataset at /Users/arnav/.cache/huggingface/datasets/imdb/plain_text/1.0.0/d613c88cf8fa3bab83b4ded3713f1f74830d1100e171db75bbddb80b3345c9c0/cache-9c48ce5d173413c7.arrow\n",
      "Loading cached shuffled indices for dataset at /Users/arnav/.cache/huggingface/datasets/imdb/plain_text/1.0.0/d613c88cf8fa3bab83b4ded3713f1f74830d1100e171db75bbddb80b3345c9c0/cache-c1eaa46e94dfbfd3.arrow\n"
     ]
    },
    {
     "name": "stdout",
     "output_type": "stream",
     "text": [
      "Precision:\t 0.6760683760683761\n",
      "Recall:\t\t 0.791\n",
      "F1:\t\t 0.7290322580645161\n",
      "Positive\n"
     ]
    }
   ],
   "source": [
    "# Please see sent_analysis_naive_bayes.py for the full code\n",
    "\n",
    "# Load the IMDB dataset\n",
    "imdb = load_dataset(\"imdb\")\n",
    "\n",
    "# Create a small dataset\n",
    "small_train_dataset = imdb[\"train\"].shuffle(seed=42).select([i for i in list(range(10000))])\n",
    "small_test_dataset = imdb[\"test\"].shuffle(seed=42).select([i for i in list(range(2000))])\n",
    "\n",
    "# Create a list of tuples containing the text and label\n",
    "small_train_dataset = [(str(i), item[0], str(item[1])) for i, item in enumerate(zip(small_train_dataset[\"text\"], small_train_dataset[\"label\"]))]\n",
    "small_test_dataset = [(str(i), item[0], str(item[1])) for i, item in enumerate(zip(small_test_dataset[\"text\"], small_test_dataset[\"label\"]))]\n",
    "\n",
    "# Create a TextClassify object\n",
    "sentiment_analysis = TextClassify()\n",
    "# Train the model\n",
    "sentiment_analysis.train(small_train_dataset)\n",
    "\n",
    "# Evaluate the model\n",
    "gold = [x[2] for x in small_test_dataset]\n",
    "predicted = [sentiment_analysis.classify(x[1]) for x in small_test_dataset]\n",
    "all_score(gold, predicted)\n",
    "\n",
    "# Classify a sentence\n",
    "if (sentiment_analysis.classify(\"I loved the movie. It was awesome!\")):\n",
    "    print(\"Positive\")"
   ]
  },
  {
   "attachments": {},
   "cell_type": "markdown",
   "metadata": {},
   "source": [
    "### Fine-tuned BERT"
   ]
  },
  {
   "attachments": {},
   "cell_type": "markdown",
   "metadata": {},
   "source": [
    "#### F1 score and other metrics can be found on [the model's page on the HuggingFace hub](https://huggingface.co/joshiarn/my_awesome_model)"
   ]
  },
  {
   "cell_type": "code",
   "execution_count": 19,
   "metadata": {},
   "outputs": [
    {
     "name": "stdout",
     "output_type": "stream",
     "text": [
      "[{'label': 'POSITIVE', 'score': 0.9940869808197021}]\n",
      "[{'label': 'NEGATIVE', 'score': 0.9792482852935791}]\n"
     ]
    }
   ],
   "source": [
    "# Please see sent_analysis_finetuned.py for the full code\n",
    "\n",
    "# Model is pulling from pretrained finetuned (by us) BERT model from HuggingFace model hub\n",
    "sentiment_analysis_finetuned = SentAnalysisFineTunedBERT()\n",
    "sentiment_analysis_finetuned.train()\n",
    "\n",
    "# Evaluate the model\n",
    "print(sentiment_analysis_finetuned.classify([\"I loved the movie. It was awesome!\"]))\n",
    "print(sentiment_analysis_finetuned.classify([\"I hated the movie. It was terrible!\"]))"
   ]
  },
  {
   "attachments": {},
   "cell_type": "markdown",
   "metadata": {},
   "source": [
    "### Pretrained BERT"
   ]
  },
  {
   "attachments": {},
   "cell_type": "markdown",
   "metadata": {},
   "source": [
    "#### Since our pipeline is currently general purpose, pretrained BERT generally performs as well as required. The scores for this model can be found on [its model page](https://huggingface.co/distilbert-base-uncased-finetuned-sst-2-english)."
   ]
  },
  {
   "cell_type": "code",
   "execution_count": 20,
   "metadata": {},
   "outputs": [
    {
     "name": "stderr",
     "output_type": "stream",
     "text": [
      "No model was supplied, defaulted to distilbert-base-uncased-finetuned-sst-2-english and revision af0f99b (https://huggingface.co/distilbert-base-uncased-finetuned-sst-2-english).\n",
      "Using a pipeline without specifying a model name and revision in production is not recommended.\n"
     ]
    },
    {
     "name": "stdout",
     "output_type": "stream",
     "text": [
      "['1']\n",
      "['0']\n",
      "[{'label': 'POSITIVE', 'score': 0.9998801946640015}]\n",
      "[{'label': 'NEGATIVE', 'score': 0.999599277973175}]\n"
     ]
    }
   ],
   "source": [
    "# Please see sent_analysis_bert.py for the full code\n",
    "\n",
    "# Model is pulling from pretrained BERT model from HuggingFace model hub\n",
    "sentiment_analysis_bert = SentAnalysisBERT()\n",
    "# Get the model predictions\n",
    "print(sentiment_analysis_bert.predict(\"I loved the movie. It was awesome!\"))\n",
    "print(sentiment_analysis_bert.predict(\"I hated the movie. It was terrible!\"))\n",
    "\n",
    "# Get the labels and the scores \n",
    "print(sentiment_analysis_bert.score(\"I loved the movie. It was awesome!\"))\n",
    "print(sentiment_analysis_bert.score(\"I hated the movie. It was terrible!\"))"
   ]
  },
  {
   "attachments": {},
   "cell_type": "markdown",
   "metadata": {},
   "source": [
    "#### Sentiment analysis using transformers, pipeline"
   ]
  },
  {
   "cell_type": "code",
   "execution_count": 30,
   "metadata": {},
   "outputs": [
    {
     "name": "stderr",
     "output_type": "stream",
     "text": [
      "No model was supplied, defaulted to distilbert-base-uncased-finetuned-sst-2-english and revision af0f99b (https://huggingface.co/distilbert-base-uncased-finetuned-sst-2-english).\n",
      "Using a pipeline without specifying a model name and revision in production is not recommended.\n"
     ]
    },
    {
     "name": "stdout",
     "output_type": "stream",
     "text": [
      "I love natural language processing\n",
      "[{'label': 'POSITIVE', 'score': 0.9998213648796082}]\n",
      " This is so cool\n",
      "[{'label': 'POSITIVE', 'score': 0.9998534917831421}]\n",
      " The voice to text analysis and recognition is extremely interesting to all of us\n",
      "[{'label': 'POSITIVE', 'score': 0.9997827410697937}]\n",
      " It is very confusing to me\n",
      "[{'label': 'NEGATIVE', 'score': 0.9992660880088806}]\n",
      " I am learning it though\n",
      "[{'label': 'POSITIVE', 'score': 0.9976691603660583}]\n",
      "\n",
      "[{'label': 'POSITIVE', 'score': 0.7481209635734558}]\n"
     ]
    },
    {
     "data": {
      "text/plain": [
       "[{'label': 'POSITIVE', 'score': 0.9985349178314209}]"
      ]
     },
     "execution_count": 30,
     "metadata": {},
     "output_type": "execute_result"
    }
   ],
   "source": [
    "nlp_sent = pipeline('sentiment-analysis')\n",
    "\n",
    "sequence_sent = \"I love natural language processing. This is so cool. The voice to text \"\\\n",
    "    \"analysis and recognition is extremely interesting to all of us. It is very confusing to me. I am learning it though.\"\n",
    "\n",
    "# visualize sentiment analysis for each sentence split with \".\" or \"!\" or \"?\"\n",
    "sequence_sentences = sequence_sent.split(\".\")\n",
    "for sentence in sequence_sentences:\n",
    "    print(sentence)\n",
    "    print(nlp_sent(sentence))\n",
    "\n",
    "nlp_sent(sequence_sent)"
   ]
  },
  {
   "attachments": {},
   "cell_type": "markdown",
   "metadata": {},
   "source": [
    "#### End decision: add pretrained BERT to pipeline"
   ]
  }
 ],
 "metadata": {
  "kernelspec": {
   "display_name": "base",
   "language": "python",
   "name": "python3"
  },
  "language_info": {
   "codemirror_mode": {
    "name": "ipython",
    "version": 3
   },
   "file_extension": ".py",
   "mimetype": "text/x-python",
   "name": "python",
   "nbconvert_exporter": "python",
   "pygments_lexer": "ipython3",
   "version": "3.10.8"
  },
  "orig_nbformat": 4
 },
 "nbformat": 4,
 "nbformat_minor": 2
}
